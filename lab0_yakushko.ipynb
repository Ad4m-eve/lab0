{
 "cells": [
  {
   "cell_type": "code",
   "execution_count": null,
   "id": "ee8056d0-1f45-40af-898b-18ddc70080bb",
   "metadata": {},
   "outputs": [],
   "source": [
    "N = ord(\"A\") % 10 + 1\n",
    "print(N)"
   ]
  },
  {
   "cell_type": "markdown",
   "id": "44617623-c479-4660-a4aa-3b21c859dc0a",
   "metadata": {},
   "source": [
    "# Йорданія"
   ]
  },
  {
   "cell_type": "markdown",
   "id": "97c6bff8-b337-4f27-ba43-4ddfd51310ff",
   "metadata": {},
   "source": [
    "Йорда́нія — це країна з населенням в 11,2 мільйони осіб, яка знаходиться на південному заході Азії. Площа — 89 206 км². Західний берег був переданий Йорданії у 1950 році, але у 1967 році окупований Ізраїлем, площа 5879 км². Столиця країни — Амман, мова — арабська."
   ]
  },
  {
   "cell_type": "markdown",
   "id": "284251ef-fda5-4579-99a9-2939845d78ae",
   "metadata": {},
   "source": [
    "## <div style=\"color:green\">Географія</div>"
   ]
  },
  {
   "cell_type": "markdown",
   "id": "904b6f14-235d-4b22-a655-97d9e9a62d8f",
   "metadata": {},
   "source": [
    "Межує на півночі з Сирією — 379 км; на північному сході з Іраком — 179 км; на сході та півдні з Саудівською Аравією — 731 км; на заході з Ізраїлем — 307 км + сектор Західний берег річки Йордан — 148 км. Сухопутні кордони загалом — 1777 км. На півдні має вихід до Акабської затоки Червоного моря — 26 км."
   ]
  },
  {
   "cell_type": "code",
   "execution_count": null,
   "id": "5eea0b43-b525-4071-8b56-aaff796fa78e",
   "metadata": {},
   "outputs": [],
   "source": [
    "%%HTML\n",
    "<svg width=\"300\" height=\"200\">\n",
    "        <rect x=\"0\" y=\"0\" width=\"300\" height=\"66.66\" fill=\"black\" />\n",
    "        <rect x=\"0\" y=\"66.66\" width=\"300\" height=\"66.66\" fill=\"white\" />\n",
    "        <rect x=\"0\" y=\"133.32\" width=\"300\" height=\"66.68\" fill=\"green\" />\n",
    "        <polygon points=\"0,0 150,100 0,200\" fill=\"red\" />\n",
    "        <path fill=\"#fff\" fill-rule=\"nonzero\" d=\"M54.599 93.076l3.523 8.99 9.382-2.405-4.494 8.041 7.411 5.5-9.869 1.27 0.693 10.002-6.646-6.208-6.646 6.208 0.693-10.002-9.867-1.27 7.409-5.5-4.494-8.041 9.382 2.405z\"/>\n",
    "</svg>"
   ]
  },
  {
   "cell_type": "markdown",
   "id": "1af08c8d-f1bc-498e-8f0e-fa1780b1df3b",
   "metadata": {},
   "source": [
    "## <div style=\"color:blue\">Державний устрій</div>"
   ]
  },
  {
   "cell_type": "markdown",
   "id": "2926b9c5-2b4a-493c-b096-472084ac7712",
   "metadata": {},
   "source": [
    "Форма правління Йорданії – ***дуалістична монархія***. Це закріплено у Конституції, ухваленій 8 січня 1952 року. Виняткова влада зосереджена в руках *короля* та ради *міністрів*. Король підписує всі закони, його право вето може бути подолано двома третинами голосів обох палат Національної Асамблеї. Він призначає всіх суддів своїми указами, затверджує зміни до Конституції, оголошує війну та командує збройними силами. Рада міністрів, яку очолює Прем'єр-міністр, призначається королем, який може зняти з посади окремих міністрів на запит Прем'єр-міністра."
   ]
  },
  {
   "cell_type": "markdown",
   "id": "bd2ed921-2a21-4b15-a200-b7f02c9375c0",
   "metadata": {},
   "source": [
    "### <div style = \"color:gray\">Адміністративний поділ</div>"
   ]
  },
  {
   "cell_type": "markdown",
   "id": "eb32ffef-ae2e-4c6b-961a-bbe42fc096ff",
   "metadata": {},
   "source": [
    "Йорданія поділяється на 12 **мухафаз** (провінцій). Усі, крім Ель-Балка, мають однойменні адміністративні центри. На чолі мухафаз знаходяться *губернатори*, призначувані королем Йорданії й котрі перебувають у підпорядкуванні міністерства внутрішніх справ. Провінції розділені на 52 районів."
   ]
  },
  {
   "cell_type": "markdown",
   "id": "11d16cae-b52e-4a0e-ac6d-da1439b800f6",
   "metadata": {},
   "source": [
    "| Мухафаза (укр.) | Мухафаза (англ.) | Адміністративний центр | Площа, $км^2$ | Населення (2004), осіб|\n",
    "|-----------------|------------------|------------------------|---------------|-----------------------|\n",
    "|     Аджлун      | \t Ajlun       |         Аджлун         |      412      |        118 496        |\n",
    "|     Акаба       | \t Aqaba       |         Акаба          |      6583     |        101 736        |\n",
    "|     Амман       | \t Amman       |         Амман          |      8231     |        1 939 405      |\n",
    "|     Джераш      | \t Jerash      |         Джераш         |      402      |        153 650        |\n",
    "|     Ез-Зарка    | \t Zarqa       |         Ез-Зарка       |      4080     |        774 569        |\n",
    "|     Ель-Балка   | \t Balqa       |         Ес-Салт        |      1076     |        344 985        |\n",
    "|     Ель-Карак   | \t Kerak       |         Ель-Карак      |      3217     |        204 135        |\n",
    "|     Ель-Мафрак  | \t Mafraq      |         Ель-Мафрак     |      26435    |        240 515        |\n",
    "|     Ет-Тафіла   | \t Tafilah     |         Ет-Тафіла      |      2114     |        75 290         |\n",
    "|     Ірбід       | \t Irbid       |         Ірбід          |      1621     |        925 736        |\n",
    "|     Маан        |      Ma'an       |         Маан           |      33163    |        92 672         |\n",
    "|     Мадаба      | \t Madaba      |         Мадаба         |      2008     |        129 792        |"
   ]
  },
  {
   "cell_type": "markdown",
   "id": "66549053-4945-417d-b9d1-c1a8010c935f",
   "metadata": {},
   "source": [
    "## <div style = \"color:orange\">Культура</div>"
   ]
  },
  {
   "cell_type": "markdown",
   "id": "e9854896-3962-4548-b558-8397a061a6f3",
   "metadata": {},
   "source": [
    "### <div style = \"color:gray\">Визначні пам'ятки країни</div>"
   ]
  },
  {
   "cell_type": "code",
   "execution_count": null,
   "id": "dc486bab-9170-447f-bee1-316999ef36bb",
   "metadata": {},
   "outputs": [],
   "source": [
    "%%HTML\n",
    "<style>\n",
    ".sightseeing{\n",
    "    border: 4px solid black;\n",
    "    padding: 15px;\n",
    "    max-width: 1000px;\n",
    "    border-radius: 8px;\n",
    "    font-size: 12pt;\n",
    "}\n",
    "</style>\n",
    "<div class=\"sightseeing\">\n",
    "    Петра — стародавнє місто в долині Арави у каньйоні Сик, столиця древнього Едомського царства. Місто Петра є одним із чудес світу та внесене ЮНЕСКО до списку об'єктів світової спадщини. Місто століттями ретельно приховувалось жителями пустелі бедуїнами від чужого ока і було відкрите тільки на початку XIX століття швейцарським науковцем Йоганном Людвігом Буркгардтом. На цей час є одним із найвідвідуваніших туристами місць у світі.\n",
    "</div>"
   ]
  },
  {
   "cell_type": "markdown",
   "id": "e041b6be-9de1-4452-9152-eb23f9792dee",
   "metadata": {},
   "source": [
    "[Зображення Петри з Вікіпедії](https://upload.wikimedia.org/wikipedia/commons/thumb/3/39/Al_Khazneh_Petra_edit_2_%28cropped%29.jpg/800px-Al_Khazneh_Petra_edit_2_%28cropped%29.jpg)"
   ]
  },
  {
   "cell_type": "markdown",
   "id": "a05f04b6-3441-43d8-9a6b-1bcb7564ee79",
   "metadata": {},
   "source": [
    "![Picture](https://gochina.ru/uploads/images/goroda-iordanii/petra/gorod-petra-2.jpg)"
   ]
  },
  {
   "cell_type": "markdown",
   "id": "ea67fedd-89f3-421f-97dc-ebfd5c7083ed",
   "metadata": {},
   "source": [
    "### <div style = \"color:gray\">Видатні персоналії</div>"
   ]
  },
  {
   "cell_type": "markdown",
   "id": "6a156d85-4091-4bd6-9f4c-3cfe8d78f5e5",
   "metadata": {},
   "source": [
    "* Король Абдалла II бін аль-Хусейн. Він відомий як лідер, який сприяє розвитку економіки країни та підтримує мирні ініціативи на Близькому Сході.\n",
    "\n",
    "* Королева Ранія аль-Абдулла. Дружина короля Абдалли II. Вона є активісткою у галузі освіти, охорони здоров'я, прав дітей і жінок, а також відома своєю благодійною діяльністю.\n",
    "\n",
    "* Тайсір Абу Сакар. Йорданський письменник, журналіст та культурний діяч. Він зробив значний внесок у розвиток сучасної арабської літератури.\n",
    "\n",
    "* Архітектор Рашид Каміль аль-Рашид. Відомий йорданський архітектор, який спроектував багато визначних будівель у країні та за її межами.\n",
    "\n",
    "* Зіна Барракет. Відома йорданська активістка у сфері прав жінок і гендерної рівності. Вона працює над покращенням соціальних умов для жінок у Йорданії.\n",
    "\n",
    "* Муна Абу-Сулайман. Телеведуча та активістка, яка працює над просуванням культури діалогу між Західом та Сходом, а також є амбасадоркою різних міжнародних організацій."
   ]
  },
  {
   "cell_type": "markdown",
   "id": "a6865a7d-3945-43f2-9888-4d9079bedf22",
   "metadata": {},
   "source": [
    "<a href=\"https://www.re-thinkingthefuture.com/city-and-architecture/a9618-architecture-in-modern-day-jordan/\">Стаття англійською про сучасну архітектуру Йорданії</a>"
   ]
  },
  {
   "cell_type": "markdown",
   "id": "b9d3211a-105d-4e4e-b9cc-a737d095233a",
   "metadata": {},
   "source": [
    "Завдання. Ввести 2 числа a i b. Знайти всі прості числа на відрізку [a,b]. "
   ]
  },
  {
   "cell_type": "code",
   "execution_count": null,
   "id": "65d85e05-da1c-4b60-b3a8-ef837c7a22ae",
   "metadata": {
    "scrolled": true
   },
   "outputs": [],
   "source": [
    "def getPrimeNumbersOnRange(a, b):\n",
    "    try:\n",
    "        a = int(a)\n",
    "        b = int(b)\n",
    "        \n",
    "        if a > b:\n",
    "            raise ValueError(\"The starting value 'a' must be less than or equal to the ending value 'b'.\")\n",
    "\n",
    "        x = []\n",
    "        for i in range(a, b + 1):\n",
    "            if i > 1:\n",
    "                for j in range(2, i // 2 + 1):\n",
    "                    if i % j == 0:\n",
    "                        break\n",
    "                else:\n",
    "                    x.append(i)\n",
    "        return x\n",
    "    \n",
    "    except ValueError as ve:\n",
    "        return f\"ValueError: {ve}\"\n",
    "    except Exception as e:\n",
    "        return f\"An unexpected error occurred: {e}\"\n",
    "print(getPrimeNumbersOnRange(3, 15))\n",
    "print(getPrimeNumbersOnRange(6, 24))\n",
    "print(getPrimeNumbersOnRange(\"six\", 24))\n",
    "print(getPrimeNumbersOnRange(24, 6))"
   ]
  }
 ],
 "metadata": {
  "kernelspec": {
   "display_name": "Python 3 (ipykernel)",
   "language": "python",
   "name": "python3"
  },
  "language_info": {
   "codemirror_mode": {
    "name": "ipython",
    "version": 3
   },
   "file_extension": ".py",
   "mimetype": "text/x-python",
   "name": "python",
   "nbconvert_exporter": "python",
   "pygments_lexer": "ipython3",
   "version": "3.12.6"
  }
 },
 "nbformat": 4,
 "nbformat_minor": 5
}
